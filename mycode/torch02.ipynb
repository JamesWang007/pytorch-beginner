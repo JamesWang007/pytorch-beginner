{
 "cells": [
  {
   "cell_type": "code",
   "execution_count": 16,
   "metadata": {},
   "outputs": [],
   "source": [
    "import torch"
   ]
  },
  {
   "cell_type": "code",
   "execution_count": 17,
   "metadata": {},
   "outputs": [],
   "source": [
    "import numpy as np"
   ]
  },
  {
   "cell_type": "code",
   "execution_count": null,
   "metadata": {},
   "outputs": [],
   "source": [
    "import matplotlib.pyplot as plt"
   ]
  },
  {
   "cell_type": "code",
   "execution_count": 18,
   "metadata": {},
   "outputs": [],
   "source": [
    "x_train = np.array([[3.3], [4.4], [5.5], [6.71], [6.93], [4.168],\n",
    "                    [9.779], [6.182], [7.59], [2.167], [7.042],\n",
    "                    [10.791], [5.313], [7.997], [3.1]], dtype=np.float32)\n",
    " \n",
    "y_train = np.array([[1.7], [2.76], [2.09], [3.19], [1.694], [1.573],\n",
    "                    [3.366], [2.596], [2.53], [1.221], [2.827],\n",
    "                    [3.465], [1.65], [2.904], [1.3]], dtype=np.float32)"
   ]
  },
  {
   "cell_type": "code",
   "execution_count": 19,
   "metadata": {},
   "outputs": [],
   "source": [
    "x_train = torch.from_numpy(x_train)\n",
    "y_train = torch.from_numpy(y_train)"
   ]
  },
  {
   "cell_type": "code",
   "execution_count": 65,
   "metadata": {},
   "outputs": [],
   "source": [
    "xx_train = np.concatenate( (x_train, x_train*x_train), axis = 1)\n",
    "xx_train = torch.from_numpy(xx_train)"
   ]
  },
  {
   "cell_type": "code",
   "execution_count": 62,
   "metadata": {},
   "outputs": [
    {
     "data": {
      "text/plain": [
       "torch.Size([1, 15])"
      ]
     },
     "execution_count": 62,
     "metadata": {},
     "output_type": "execute_result"
    }
   ],
   "source": []
  },
  {
   "cell_type": "code",
   "execution_count": null,
   "metadata": {},
   "outputs": [],
   "source": []
  },
  {
   "cell_type": "code",
   "execution_count": 27,
   "metadata": {},
   "outputs": [],
   "source": [
    "from torch import nn\n",
    "import torch.nn.functional as F\n",
    "from torch.autograd import Variable"
   ]
  },
  {
   "cell_type": "code",
   "execution_count": 28,
   "metadata": {},
   "outputs": [],
   "source": [
    "class LinearRegression(nn.Module):\n",
    "    def __init__(self):\n",
    "        super(LinearRegression, self).__init__()\n",
    "        self.linear = nn.Linear(1, 1) # x is 1 dim, y is 1 dim\n",
    "        \n",
    "    def forward(self, x):\n",
    "        out = self.linear(x)\n",
    "        return out\n",
    "    \n",
    "model = LinearRegression()\n"
   ]
  },
  {
   "cell_type": "code",
   "execution_count": 87,
   "metadata": {},
   "outputs": [],
   "source": [
    "# polynomial regression\n",
    "class PolynomialRegression(nn.Module):\n",
    "    def __init__(self):\n",
    "        super(PolynomialRegression, self).__init__()\n",
    "        self.linear = nn.Linear(2, 1) # input 2 dim, output 1 dim\n",
    "    \n",
    "    def forward(self, x):\n",
    "        out = self.linear(x)\n",
    "        return out\n",
    "    \n",
    "    \n",
    "model_pln = PolynomialRegression()\n",
    "\n"
   ]
  },
  {
   "cell_type": "code",
   "execution_count": 84,
   "metadata": {},
   "outputs": [
    {
     "data": {
      "image/png": "[encoded data removed]",
      "text/plain": [
       "<Figure size 720x360 with 1 Axes>"
      ]
     },
     "metadata": {
      "needs_background": "light"
     },
     "output_type": "display_data"
    }
   ],
   "source": [
    "criterion = nn.MSELoss()\n",
    "optimizer = torch.optim.SGD(model.parameters(), lr = 1e-4)\n",
    "\n",
    "num_epochs = 1000\n",
    "for epoch in range(num_epochs):\n",
    "    inputs = Variable(xx_train)\n",
    "    target = Variable(y_train)\n",
    "    \n",
    "    #forward\n",
    "    out = model_pln(inputs)\n",
    "    loss = criterion(out, target)\n",
    "    \n",
    "    #backward\n",
    "    optimizer.zero_grad()\n",
    "    loss.backward()\n",
    "    optimizer.step()\n",
    "    \n",
    "    if (epoch+1) % 20 == 0:\n",
    "        #print(f'Epoch[{epoch+1}/{num_epochs}], loss: {loss.item():.6f}')\n",
    "        pass\n",
    "    \n",
    "model.eval() # testing mode; for dropout and batch normalization\n",
    "predict = model_pln(Variable(xx_train))\n",
    "predict = predict.data.numpy()\n",
    "\n",
    "\n",
    "\n",
    "with torch.no_grad():\n",
    "    predict = model_pln(xx_train)\n",
    "predict = predict.data.numpy()\n",
    "\n",
    "fig = plt.figure(figsize=(10, 5))\n",
    "plt.plot(x_train.numpy(), y_train.numpy(), 'ro', label='Original data')\n",
    "plt.plot(x_train.numpy(), predict, label='Fitting Line')\n",
    "# 显示图例\n",
    "plt.legend() \n",
    "plt.show()\n",
    "\n"
   ]
  },
  {
   "cell_type": "code",
   "execution_count": 79,
   "metadata": {},
   "outputs": [],
   "source": [
    "criterion = nn.MSELoss()\n",
    "optimizer = torch.optim.SGD(model.parameters(), lr = 1e-4)"
   ]
  },
  {
   "cell_type": "code",
   "execution_count": 23,
   "metadata": {},
   "outputs": [],
   "source": [
    "# train"
   ]
  },
  {
   "cell_type": "code",
   "execution_count": 80,
   "metadata": {},
   "outputs": [
    {
     "name": "stdout",
     "output_type": "stream",
     "text": [
      "Epoch[20/1000], loss: 0.175657\n",
      "Epoch[40/1000], loss: 0.175650\n",
      "Epoch[60/1000], loss: 0.175643\n",
      "Epoch[80/1000], loss: 0.175636\n",
      "Epoch[100/1000], loss: 0.175629\n",
      "Epoch[120/1000], loss: 0.175622\n",
      "Epoch[140/1000], loss: 0.175615\n",
      "Epoch[160/1000], loss: 0.175609\n",
      "Epoch[180/1000], loss: 0.175602\n",
      "Epoch[200/1000], loss: 0.175595\n",
      "Epoch[220/1000], loss: 0.175588\n",
      "Epoch[240/1000], loss: 0.175581\n",
      "Epoch[260/1000], loss: 0.175574\n",
      "Epoch[280/1000], loss: 0.175568\n",
      "Epoch[300/1000], loss: 0.175561\n",
      "Epoch[320/1000], loss: 0.175554\n",
      "Epoch[340/1000], loss: 0.175547\n",
      "Epoch[360/1000], loss: 0.175540\n",
      "Epoch[380/1000], loss: 0.175533\n",
      "Epoch[400/1000], loss: 0.175527\n",
      "Epoch[420/1000], loss: 0.175520\n",
      "Epoch[440/1000], loss: 0.175513\n",
      "Epoch[460/1000], loss: 0.175506\n",
      "Epoch[480/1000], loss: 0.175499\n",
      "Epoch[500/1000], loss: 0.175493\n",
      "Epoch[520/1000], loss: 0.175486\n",
      "Epoch[540/1000], loss: 0.175479\n",
      "Epoch[560/1000], loss: 0.175472\n",
      "Epoch[580/1000], loss: 0.175466\n",
      "Epoch[600/1000], loss: 0.175459\n",
      "Epoch[620/1000], loss: 0.175452\n",
      "Epoch[640/1000], loss: 0.175446\n",
      "Epoch[660/1000], loss: 0.175439\n",
      "Epoch[680/1000], loss: 0.175432\n",
      "Epoch[700/1000], loss: 0.175426\n",
      "Epoch[720/1000], loss: 0.175419\n",
      "Epoch[740/1000], loss: 0.175412\n",
      "Epoch[760/1000], loss: 0.175406\n",
      "Epoch[780/1000], loss: 0.175399\n",
      "Epoch[800/1000], loss: 0.175392\n",
      "Epoch[820/1000], loss: 0.175385\n",
      "Epoch[840/1000], loss: 0.175379\n",
      "Epoch[860/1000], loss: 0.175372\n",
      "Epoch[880/1000], loss: 0.175365\n",
      "Epoch[900/1000], loss: 0.175359\n",
      "Epoch[920/1000], loss: 0.175352\n",
      "Epoch[940/1000], loss: 0.175346\n",
      "Epoch[960/1000], loss: 0.175339\n",
      "Epoch[980/1000], loss: 0.175332\n",
      "Epoch[1000/1000], loss: 0.175326\n"
     ]
    }
   ],
   "source": [
    "num_epochs = 1000\n",
    "for epoch in range(num_epochs):\n",
    "    inputs = Variable(x_train)\n",
    "    target = Variable(y_train)\n",
    "    \n",
    "    #forward\n",
    "    out = model(inputs)\n",
    "    loss = criterion(out, target)\n",
    "    \n",
    "    #backward\n",
    "    optimizer.zero_grad()\n",
    "    loss.backward()\n",
    "    optimizer.step()\n",
    "    \n",
    "    if (epoch+1) % 20 == 0:\n",
    "        print(f'Epoch[{epoch+1}/{num_epochs}], loss: {loss.item():.6f}')"
   ]
  },
  {
   "cell_type": "code",
   "execution_count": 34,
   "metadata": {},
   "outputs": [],
   "source": [
    "# validation"
   ]
  },
  {
   "cell_type": "code",
   "execution_count": 35,
   "metadata": {},
   "outputs": [],
   "source": [
    "model.eval() # testing mode; for dropout and batch normalization\n",
    "predict = model(Variable(x_train))\n",
    "predict = predict.data.numpy()"
   ]
  },
  {
   "cell_type": "code",
   "execution_count": 37,
   "metadata": {},
   "outputs": [],
   "source": [
    "import matplotlib.pyplot as plt"
   ]
  },
  {
   "cell_type": "code",
   "execution_count": 38,
   "metadata": {},
   "outputs": [
    {
     "data": {
      "image/png": "[encoded data removed]",
      "text/plain": [
       "<Figure size 720x360 with 1 Axes>"
      ]
     },
     "metadata": {
      "needs_background": "light"
     },
     "output_type": "display_data"
    }
   ],
   "source": [
    "with torch.no_grad():\n",
    "    predict = model(x_train)\n",
    "predict = predict.data.numpy()\n",
    "\n",
    "fig = plt.figure(figsize=(10, 5))\n",
    "plt.plot(x_train.numpy(), y_train.numpy(), 'ro', label='Original data')\n",
    "plt.plot(x_train.numpy(), predict, label='Fitting Line')\n",
    "# 显示图例\n",
    "plt.legend() \n",
    "plt.show()\n",
    "\n",
    "# 保存模型\n",
    "torch.save(model.state_dict(), './linear.pth')"
   ]
  },
  {
   "cell_type": "code",
   "execution_count": null,
   "metadata": {},
   "outputs": [],
   "source": []
  },
  {
   "cell_type": "code",
   "execution_count": null,
   "metadata": {},
   "outputs": [],
   "source": []
  },
  {
   "cell_type": "code",
   "execution_count": null,
   "metadata": {},
   "outputs": [],
   "source": []
  },
  {
   "cell_type": "code",
   "execution_count": null,
   "metadata": {},
   "outputs": [],
   "source": []
  }
 ],
 "metadata": {
  "kernelspec": {
   "display_name": "Python 3",
   "language": "python",
   "name": "python3"
  },
  "language_info": {
   "codemirror_mode": {
    "name": "ipython",
    "version": 3
   },
   "file_extension": ".py",
   "mimetype": "text/x-python",
   "name": "python",
   "nbconvert_exporter": "python",
   "pygments_lexer": "ipython3",
   "version": "3.7.5"
  }
 },
 "nbformat": 4,
 "nbformat_minor": 2
}
